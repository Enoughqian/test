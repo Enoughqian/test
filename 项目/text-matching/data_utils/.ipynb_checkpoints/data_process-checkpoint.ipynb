{
 "cells": [
  {
   "cell_type": "code",
   "execution_count": 1,
   "metadata": {},
   "outputs": [],
   "source": [
    "import numpy as np\n",
    "import pandas as pd\n",
    "import pickle\n",
    "import jieba\n",
    "import json\n",
    "import re"
   ]
  },
  {
   "cell_type": "code",
   "execution_count": 2,
   "metadata": {},
   "outputs": [],
   "source": [
    "train_data_path = '.../data/atec_nlp_sim_train.csv'  # 训练数据\n",
    "train_add_data_path = '../data/atec_nlp_sim_train_add.csv'  # 添加训练数据\n",
    "stop_words_path = '../data/stop_words.txt'  # 停用词路径\n",
    "tokenize_dict_path = '../data/dict_all.txt'  # jieba分词新自定义字典\n",
    "spelling_corrections_path = '../data/spelling_corrections.json'"
   ]
  },
  {
   "cell_type": "code",
   "execution_count": 3,
   "metadata": {},
   "outputs": [],
   "source": [
    "train_data_df = pd.read_csv(train_data_path, sep='\\t', header=None,names=[\"index\", \"s1\", \"s2\", \"label\"])\n",
    "train_add_data_df = pd.read_csv(train_add_data_path, sep='\\t', header=None, names=[\"index\", \"s1\", \"s2\", \"label\"])\n",
    "train_all = pd.concat([train_data_df, train_add_data_df])"
   ]
  },
  {
   "cell_type": "code",
   "execution_count": 4,
   "metadata": {},
   "outputs": [],
   "source": [
    "train_all.reset_index(drop=True, inplace=True)"
   ]
  },
  {
   "cell_type": "code",
   "execution_count": 5,
   "metadata": {},
   "outputs": [
    {
     "data": {
      "text/html": [
       "<div>\n",
       "<style scoped>\n",
       "    .dataframe tbody tr th:only-of-type {\n",
       "        vertical-align: middle;\n",
       "    }\n",
       "\n",
       "    .dataframe tbody tr th {\n",
       "        vertical-align: top;\n",
       "    }\n",
       "\n",
       "    .dataframe thead th {\n",
       "        text-align: right;\n",
       "    }\n",
       "</style>\n",
       "<table border=\"1\" class=\"dataframe\">\n",
       "  <thead>\n",
       "    <tr style=\"text-align: right;\">\n",
       "      <th></th>\n",
       "      <th>index</th>\n",
       "      <th>s1</th>\n",
       "      <th>s2</th>\n",
       "      <th>label</th>\n",
       "    </tr>\n",
       "  </thead>\n",
       "  <tbody>\n",
       "    <tr>\n",
       "      <th>0</th>\n",
       "      <td>1</td>\n",
       "      <td>﻿怎么更改花呗手机号码</td>\n",
       "      <td>我的花呗是以前的手机号码，怎么更改成现在的支付宝的号码手机号</td>\n",
       "      <td>1</td>\n",
       "    </tr>\n",
       "    <tr>\n",
       "      <th>1</th>\n",
       "      <td>2</td>\n",
       "      <td>也开不了花呗，就这样了？完事了</td>\n",
       "      <td>真的嘛？就是花呗付款</td>\n",
       "      <td>0</td>\n",
       "    </tr>\n",
       "    <tr>\n",
       "      <th>2</th>\n",
       "      <td>3</td>\n",
       "      <td>花呗冻结以后还能开通吗</td>\n",
       "      <td>我的条件可以开通花呗借款吗</td>\n",
       "      <td>0</td>\n",
       "    </tr>\n",
       "    <tr>\n",
       "      <th>3</th>\n",
       "      <td>4</td>\n",
       "      <td>如何得知关闭借呗</td>\n",
       "      <td>想永久关闭借呗</td>\n",
       "      <td>0</td>\n",
       "    </tr>\n",
       "    <tr>\n",
       "      <th>4</th>\n",
       "      <td>5</td>\n",
       "      <td>花呗扫码付钱</td>\n",
       "      <td>二维码扫描可以用花呗吗</td>\n",
       "      <td>0</td>\n",
       "    </tr>\n",
       "  </tbody>\n",
       "</table>\n",
       "</div>"
      ],
      "text/plain": [
       "   index               s1                              s2  label\n",
       "0      1      ﻿怎么更改花呗手机号码  我的花呗是以前的手机号码，怎么更改成现在的支付宝的号码手机号      1\n",
       "1      2  也开不了花呗，就这样了？完事了                      真的嘛？就是花呗付款      0\n",
       "2      3      花呗冻结以后还能开通吗                   我的条件可以开通花呗借款吗      0\n",
       "3      4         如何得知关闭借呗                         想永久关闭借呗      0\n",
       "4      5           花呗扫码付钱                     二维码扫描可以用花呗吗      0"
      ]
     },
     "execution_count": 5,
     "metadata": {},
     "output_type": "execute_result"
    }
   ],
   "source": [
    "train_all.head()"
   ]
  },
  {
   "cell_type": "markdown",
   "metadata": {},
   "source": [
    "### 分词及处理"
   ]
  },
  {
   "cell_type": "code",
   "execution_count": 6,
   "metadata": {
    "scrolled": true
   },
   "outputs": [
    {
     "name": "stderr",
     "output_type": "stream",
     "text": [
      "Building prefix dict from the default dictionary ...\n",
      "Loading model from cache C:\\Users\\zxq\\AppData\\Local\\Temp\\jieba.cache\n",
      "Loading model cost 1.078 seconds.\n",
      "Prefix dict has been built succesfully.\n"
     ]
    }
   ],
   "source": [
    "jieba.load_userdict(tokenize_dict_path)"
   ]
  },
  {
   "cell_type": "code",
   "execution_count": 7,
   "metadata": {},
   "outputs": [],
   "source": [
    "# 停用词表\n",
    "stopwords = [line.strip() for line in open(stop_words_path, 'r', encoding='utf-8').readlines()]"
   ]
  },
  {
   "cell_type": "code",
   "execution_count": 8,
   "metadata": {},
   "outputs": [],
   "source": [
    "# 拼错词替换表\n",
    "with open(spelling_corrections_path,\"r\",encoding=\"utf-8\") as file:\n",
    "    spelling_corrections = json.load(file)"
   ]
  },
  {
   "cell_type": "code",
   "execution_count": 9,
   "metadata": {},
   "outputs": [],
   "source": [
    "def transform_other_word(str_text,reg_dict):\n",
    "    \"\"\"\n",
    "    替换词\n",
    "    :param str_text:待替换的句子\n",
    "    :param reg_dict:替换词字典\n",
    "    :return:\n",
    "    \"\"\"\n",
    "    for token_str,replac_str in reg_dict.items():\n",
    "        str_text = str_text.replace(token_str, replac_str)\n",
    "    return str_text"
   ]
  },
  {
   "cell_type": "code",
   "execution_count": 10,
   "metadata": {},
   "outputs": [],
   "source": [
    "def seg_sentence(sentence, stop_words):\n",
    "    \"\"\"\n",
    "    对句子进行分词\n",
    "    :param sentence:句子，停用词\n",
    "    \"\"\"\n",
    "    sentence_seged = jieba.cut(sentence.strip())\n",
    "    word_list = [i for i in sentence_seged if i not in stop_words and i != ' ']\n",
    "    return word_list"
   ]
  },
  {
   "cell_type": "code",
   "execution_count": 11,
   "metadata": {},
   "outputs": [],
   "source": [
    "def preprocessing_word(s1_train, s2_train, stopwords, spelling_corrections):\n",
    "\n",
    "    # 去除句子中的脱敏数字***，替换成一\n",
    "    re_object = re.compile(r'\\*+')\n",
    "\n",
    "    s1_all = []\n",
    "    s2_all = []\n",
    "    all = []\n",
    "\n",
    "    for s1_,s2_ in zip(s1_train, s2_train):\n",
    "        s1 = re_object.sub(u\"十一\", s1_)\n",
    "        s2 = re_object.sub(u\"十一\", s2_)\n",
    "        spell_corr_s1 = transform_other_word(s1, spelling_corrections)\n",
    "        spell_corr_s2 = transform_other_word(s2, spelling_corrections)\n",
    "\n",
    "        # 分词\n",
    "        seg_s1 = seg_sentence(spell_corr_s1, stopwords)\n",
    "        seg_s2 = seg_sentence(spell_corr_s2, stopwords)\n",
    "\n",
    "        all.extend(seg_s1)\n",
    "        all.extend(seg_s2)\n",
    "        s1_all.append(seg_s1)\n",
    "        s2_all.append(seg_s2)\n",
    "    source_list = []\n",
    "    # source_list = list(set(all))\n",
    "    source_list.append('<UNK>')\n",
    "    source_list.append('<PAD>')\n",
    "    source_list.extend(list(set(all)))\n",
    "    word2id = {}\n",
    "    id2word = {}\n",
    "    for index, char in enumerate(source_list):\n",
    "        word2id[char] = index\n",
    "        id2word[index] = char\n",
    "\n",
    "    return s1_all, s2_all, word2id, id2word"
   ]
  },
  {
   "cell_type": "code",
   "execution_count": 12,
   "metadata": {},
   "outputs": [],
   "source": [
    "s1_train = train_all[\"s1\"].tolist()\n",
    "s2_train = train_all[\"s2\"].tolist()\n",
    "y_train = train_all[\"label\"].tolist()"
   ]
  },
  {
   "cell_type": "code",
   "execution_count": 13,
   "metadata": {},
   "outputs": [],
   "source": [
    "s1_word_all, s2_word_all, word2id, id2word = preprocessing_word(s1_train, s2_train, stopwords, spelling_corrections)"
   ]
  },
  {
   "cell_type": "code",
   "execution_count": 14,
   "metadata": {},
   "outputs": [],
   "source": [
    "def make_word2id(data, word2id):\n",
    "    data2id = []\n",
    "    for word_list in data:\n",
    "        id_list = [word2id.get(i) if word2id.get(i) is not None else word2id.get('<PAD>') for i in word_list]\n",
    "        data2id.append(id_list)\n",
    "    return data2id"
   ]
  },
  {
   "cell_type": "code",
   "execution_count": 15,
   "metadata": {},
   "outputs": [],
   "source": [
    "def all_data_set(s1_all, s2_all, word2id, y_train, max_l=15):\n",
    "    pad = word2id['<PAD>']\n",
    "    all_data = []\n",
    "    s1_data_id = make_word2id(s1_all, word2id)\n",
    "    s2_data_id = make_word2id(s2_all, word2id)\n",
    "    s1_all_new = []\n",
    "    s2_all_new = []\n",
    "    y = []\n",
    "    for i in range(len(s1_data_id)):\n",
    "        if len(s1_data_id[i]) > max_l:\n",
    "            s1_set = s1_data_id[i][:max_l]\n",
    "        else:\n",
    "            s1_set = np.concatenate((s1_data_id[i], np.tile(pad, max_l - len(s1_data_id[i]))), axis=0)\n",
    "        if len(s2_data_id[i]) > max_l:\n",
    "            s2_set = s2_data_id[i][:max_l]\n",
    "        else:\n",
    "            s2_set = np.concatenate((s2_data_id[i], np.tile(pad, max_l - len(s2_data_id[i]))), axis=0)\n",
    "        y_set = [1,0] if y_train[i] == 0 else [0,1]\n",
    "        s1_all_new.append(s1_set)\n",
    "        s2_all_new.append(s2_set)\n",
    "        y.append(y_set)\n",
    "    return s1_all_new, s2_all_new, y"
   ]
  },
  {
   "cell_type": "code",
   "execution_count": 16,
   "metadata": {},
   "outputs": [],
   "source": [
    "s1_word_id_all, s2_word_id_all, y_set = all_data_set(s1_word_all, s2_word_all, word2id, y_train, max_l=15)"
   ]
  },
  {
   "cell_type": "code",
   "execution_count": 17,
   "metadata": {},
   "outputs": [],
   "source": [
    "train_all[\"s1_word_all\"] = s1_word_all"
   ]
  },
  {
   "cell_type": "code",
   "execution_count": 18,
   "metadata": {},
   "outputs": [],
   "source": [
    "train_all[\"s2_word_all\"] = s2_word_all"
   ]
  },
  {
   "cell_type": "code",
   "execution_count": 19,
   "metadata": {
    "scrolled": true
   },
   "outputs": [],
   "source": [
    "train_all[\"s1_word_id_all\"] = s1_word_id_all"
   ]
  },
  {
   "cell_type": "code",
   "execution_count": 20,
   "metadata": {},
   "outputs": [],
   "source": [
    "train_all[\"s2_word_id_all\"] = s2_word_id_all"
   ]
  },
  {
   "cell_type": "code",
   "execution_count": 21,
   "metadata": {},
   "outputs": [],
   "source": [
    "train_all[\"y_set\"] = y_set"
   ]
  },
  {
   "cell_type": "code",
   "execution_count": 22,
   "metadata": {},
   "outputs": [
    {
     "data": {
      "text/html": [
       "<div>\n",
       "<style scoped>\n",
       "    .dataframe tbody tr th:only-of-type {\n",
       "        vertical-align: middle;\n",
       "    }\n",
       "\n",
       "    .dataframe tbody tr th {\n",
       "        vertical-align: top;\n",
       "    }\n",
       "\n",
       "    .dataframe thead th {\n",
       "        text-align: right;\n",
       "    }\n",
       "</style>\n",
       "<table border=\"1\" class=\"dataframe\">\n",
       "  <thead>\n",
       "    <tr style=\"text-align: right;\">\n",
       "      <th></th>\n",
       "      <th>index</th>\n",
       "      <th>s1</th>\n",
       "      <th>s2</th>\n",
       "      <th>label</th>\n",
       "      <th>s1_word_all</th>\n",
       "      <th>s2_word_all</th>\n",
       "      <th>s1_word_id_all</th>\n",
       "      <th>s2_word_id_all</th>\n",
       "      <th>y_set</th>\n",
       "    </tr>\n",
       "  </thead>\n",
       "  <tbody>\n",
       "    <tr>\n",
       "      <th>102472</th>\n",
       "      <td>63127</td>\n",
       "      <td>花呗分期还一期后能用吗</td>\n",
       "      <td>分期是还花呗吗</td>\n",
       "      <td>0</td>\n",
       "      <td>[花呗, 分期, 一期, 能用]</td>\n",
       "      <td>[分期, 是, 花呗]</td>\n",
       "      <td>[7035, 7398, 4411, 13074, 1, 1, 1, 1, 1, 1, 1,...</td>\n",
       "      <td>[7398, 8573, 7035, 1, 1, 1, 1, 1, 1, 1, 1, 1, ...</td>\n",
       "      <td>[1, 0]</td>\n",
       "    </tr>\n",
       "    <tr>\n",
       "      <th>102473</th>\n",
       "      <td>63128</td>\n",
       "      <td>我的支付宝手机号很花呗手机号不一样怎么办</td>\n",
       "      <td>支付宝上的手机号，怎么和花呗上的不一样</td>\n",
       "      <td>1</td>\n",
       "      <td>[支付宝, 手机号, 很, 花呗, 手机号, 不, 一样, 怎么办]</td>\n",
       "      <td>[支付宝, 手机号, 怎么, 花呗, 不, 一样]</td>\n",
       "      <td>[6908, 2417, 9236, 7035, 2417, 10236, 12577, 1...</td>\n",
       "      <td>[6908, 2417, 216, 7035, 10236, 12577, 1, 1, 1,...</td>\n",
       "      <td>[0, 1]</td>\n",
       "    </tr>\n",
       "    <tr>\n",
       "      <th>102474</th>\n",
       "      <td>63129</td>\n",
       "      <td>借呗这个月的分期晚几天还可以吗</td>\n",
       "      <td>借呗分期后可以更改分期时间吗</td>\n",
       "      <td>0</td>\n",
       "      <td>[借呗, 月, 分期, 晚, 几天, 可以]</td>\n",
       "      <td>[借呗, 分期, 可以, 更换, 分期, 时间]</td>\n",
       "      <td>[9420, 8805, 7398, 12104, 9256, 5330, 1, 1, 1,...</td>\n",
       "      <td>[9420, 7398, 5330, 10058, 7398, 2973, 1, 1, 1,...</td>\n",
       "      <td>[1, 0]</td>\n",
       "    </tr>\n",
       "    <tr>\n",
       "      <th>102475</th>\n",
       "      <td>63130</td>\n",
       "      <td>我怎么没有花呗临时额度了</td>\n",
       "      <td>花呗有零时额度吗</td>\n",
       "      <td>0</td>\n",
       "      <td>[怎么, 没, 花呗, 临时, 额度]</td>\n",
       "      <td>[花呗, 有, 临时, 额度]</td>\n",
       "      <td>[216, 9291, 7035, 760, 6554, 1, 1, 1, 1, 1, 1,...</td>\n",
       "      <td>[7035, 7114, 760, 6554, 1, 1, 1, 1, 1, 1, 1, 1...</td>\n",
       "      <td>[1, 0]</td>\n",
       "    </tr>\n",
       "    <tr>\n",
       "      <th>102476</th>\n",
       "      <td>63131</td>\n",
       "      <td>怎么授权芝麻信用给花呗</td>\n",
       "      <td>花呗授权联系人怎么授权</td>\n",
       "      <td>0</td>\n",
       "      <td>[怎么, 授权, 信用度, 度, 给, 花呗]</td>\n",
       "      <td>[花呗, 授权, 联系人, 怎么, 授权]</td>\n",
       "      <td>[216, 10193, 9022, 7661, 5728, 7035, 1, 1, 1, ...</td>\n",
       "      <td>[7035, 10193, 1901, 216, 10193, 1, 1, 1, 1, 1,...</td>\n",
       "      <td>[1, 0]</td>\n",
       "    </tr>\n",
       "  </tbody>\n",
       "</table>\n",
       "</div>"
      ],
      "text/plain": [
       "        index                    s1                   s2  label  \\\n",
       "102472  63127           花呗分期还一期后能用吗              分期是还花呗吗      0   \n",
       "102473  63128  我的支付宝手机号很花呗手机号不一样怎么办  支付宝上的手机号，怎么和花呗上的不一样      1   \n",
       "102474  63129       借呗这个月的分期晚几天还可以吗       借呗分期后可以更改分期时间吗      0   \n",
       "102475  63130          我怎么没有花呗临时额度了             花呗有零时额度吗      0   \n",
       "102476  63131           怎么授权芝麻信用给花呗          花呗授权联系人怎么授权      0   \n",
       "\n",
       "                               s1_word_all                s2_word_all  \\\n",
       "102472                    [花呗, 分期, 一期, 能用]                [分期, 是, 花呗]   \n",
       "102473  [支付宝, 手机号, 很, 花呗, 手机号, 不, 一样, 怎么办]  [支付宝, 手机号, 怎么, 花呗, 不, 一样]   \n",
       "102474              [借呗, 月, 分期, 晚, 几天, 可以]   [借呗, 分期, 可以, 更换, 分期, 时间]   \n",
       "102475                 [怎么, 没, 花呗, 临时, 额度]            [花呗, 有, 临时, 额度]   \n",
       "102476             [怎么, 授权, 信用度, 度, 给, 花呗]      [花呗, 授权, 联系人, 怎么, 授权]   \n",
       "\n",
       "                                           s1_word_id_all  \\\n",
       "102472  [7035, 7398, 4411, 13074, 1, 1, 1, 1, 1, 1, 1,...   \n",
       "102473  [6908, 2417, 9236, 7035, 2417, 10236, 12577, 1...   \n",
       "102474  [9420, 8805, 7398, 12104, 9256, 5330, 1, 1, 1,...   \n",
       "102475  [216, 9291, 7035, 760, 6554, 1, 1, 1, 1, 1, 1,...   \n",
       "102476  [216, 10193, 9022, 7661, 5728, 7035, 1, 1, 1, ...   \n",
       "\n",
       "                                           s2_word_id_all   y_set  \n",
       "102472  [7398, 8573, 7035, 1, 1, 1, 1, 1, 1, 1, 1, 1, ...  [1, 0]  \n",
       "102473  [6908, 2417, 216, 7035, 10236, 12577, 1, 1, 1,...  [0, 1]  \n",
       "102474  [9420, 7398, 5330, 10058, 7398, 2973, 1, 1, 1,...  [1, 0]  \n",
       "102475  [7035, 7114, 760, 6554, 1, 1, 1, 1, 1, 1, 1, 1...  [1, 0]  \n",
       "102476  [7035, 10193, 1901, 216, 10193, 1, 1, 1, 1, 1,...  [1, 0]  "
      ]
     },
     "execution_count": 22,
     "metadata": {},
     "output_type": "execute_result"
    }
   ],
   "source": [
    "train_all.tail()"
   ]
  },
  {
   "cell_type": "code",
   "execution_count": 23,
   "metadata": {},
   "outputs": [],
   "source": [
    "# 将数据存到一个大列表里面，格式是[[s1,s2,y],[s1,s2,y],[s1,s2,y].......]\n",
    "all_data = []\n",
    "for i in range(len(s1_word_id_all)):\n",
    "    all_data.append([s1_word_id_all[i],s2_word_id_all[i],y_set[i]])"
   ]
  },
  {
   "cell_type": "code",
   "execution_count": 24,
   "metadata": {},
   "outputs": [],
   "source": [
    "# 将数据存入pickle中\n",
    "with open(\"../processed_data/word_data.pk\", 'wb') as f1:\n",
    "    pickle.dump((all_data,word2id,id2word), f1)"
   ]
  },
  {
   "cell_type": "code",
   "execution_count": null,
   "metadata": {},
   "outputs": [],
   "source": []
  },
  {
   "cell_type": "code",
   "execution_count": null,
   "metadata": {},
   "outputs": [],
   "source": []
  }
 ],
 "metadata": {
  "kernelspec": {
   "display_name": "Python 3",
   "language": "python",
   "name": "python3"
  },
  "language_info": {
   "codemirror_mode": {
    "name": "ipython",
    "version": 3
   },
   "file_extension": ".py",
   "mimetype": "text/x-python",
   "name": "python",
   "nbconvert_exporter": "python",
   "pygments_lexer": "ipython3",
   "version": "3.6.4"
  }
 },
 "nbformat": 4,
 "nbformat_minor": 2
}
