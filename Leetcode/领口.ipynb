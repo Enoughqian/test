{
 "cells": [
  {
   "cell_type": "markdown",
   "metadata": {},
   "source": [
    "# 1、Two Sum"
   ]
  },
  {
   "cell_type": "code",
   "execution_count": 3,
   "metadata": {},
   "outputs": [
    {
     "name": "stdout",
     "output_type": "stream",
     "text": [
      "{2: 0}\n",
      "[0, 1]\n"
     ]
    }
   ],
   "source": [
    "def twoSum(nums,target):\n",
    "    dic = {}\n",
    "    for i in range(len(nums)):\n",
    "        if target - nums[i] not in dic:\n",
    "            dic[nums[i]] = i\n",
    "        else:\n",
    "            return [dic[target - nums[i]],i]\n",
    "a = [2,7,11,15]\n",
    "target = 9\n",
    "print(twoSum(a,target))"
   ]
  },
  {
   "cell_type": "markdown",
   "metadata": {},
   "source": [
    "# 13、Roman to integer"
   ]
  },
  {
   "cell_type": "code",
   "execution_count": 7,
   "metadata": {},
   "outputs": [
    {
     "name": "stdout",
     "output_type": "stream",
     "text": [
      "6\n"
     ]
    }
   ],
   "source": [
    "def romanToInt(s):\n",
    "    num = 0\n",
    "    num_map = {\"I\":1, \"V\":5, \"X\":10, \"L\":50, \"C\":100, \"D\":500, \"M\":1000}\n",
    "    for i in range(len(s)-1):\n",
    "        if num_map[s[i]]<num_map[s[i+1]]:\n",
    "            num -= num_map[s[i]]\n",
    "        else:\n",
    "            num += num_map[s[i]]\n",
    "    return num+num_map[s[-1]]\n",
    "s = \"VI\"\n",
    "print(romanToInt(s))"
   ]
  },
  {
   "cell_type": "markdown",
   "metadata": {},
   "source": [
    "# 22、括号生成"
   ]
  },
  {
   "cell_type": "code",
   "execution_count": 8,
   "metadata": {},
   "outputs": [
    {
     "name": "stdout",
     "output_type": "stream",
     "text": [
      "['((()))', '(()())', '(())()', '()(())', '()()()']\n"
     ]
    }
   ],
   "source": [
    "def generateParenthesis(n):\n",
    "    if n == 0:\n",
    "        return []\n",
    "    \n",
    "    result = []\n",
    "    helper(n, n, \"\", result)\n",
    "    return result\n",
    "\n",
    "def helper(l, r, item, result):\n",
    "    if r<l:\n",
    "        return \n",
    "    if l>0:\n",
    "        helper(l-1, r, item+\"(\", result)\n",
    "    if r>0:\n",
    "        helper(l, r-1, item+\")\", result)\n",
    "    if l == 0 and r == 0:\n",
    "        result.append(item)\n",
    "\n",
    "c = generateParenthesis(3)\n",
    "print(c)"
   ]
  },
  {
   "cell_type": "markdown",
   "metadata": {},
   "source": [
    "# 26、删除排序数组中的重复项"
   ]
  },
  {
   "cell_type": "code",
   "execution_count": 1,
   "metadata": {},
   "outputs": [
    {
     "name": "stdout",
     "output_type": "stream",
     "text": [
      "3\n"
     ]
    }
   ],
   "source": [
    "def cs(nums):\n",
    "    n = 0\n",
    "    for i in range(len(nums)):\n",
    "        if nums[i] !=nums[n]:\n",
    "            nums[n] = nums[i]\n",
    "            n+=1\n",
    "    return n+1\n",
    "c = cs([1,1,2,3])\n",
    "print(c)"
   ]
  },
  {
   "cell_type": "markdown",
   "metadata": {},
   "source": [
    "# 20、验证括号"
   ]
  },
  {
   "cell_type": "code",
   "execution_count": 34,
   "metadata": {},
   "outputs": [
    {
     "name": "stdout",
     "output_type": "stream",
     "text": [
      "False\n"
     ]
    }
   ],
   "source": [
    "def isValid(a):\n",
    "    dict_ = {'(':')','{':'}','[':']'}\n",
    "    temp = []\n",
    "    for i in a:\n",
    "        if i in dict_.keys():\n",
    "            temp.append(i)\n",
    "        elif len(temp) == 0 or dict_[temp.pop()] != i:\n",
    "            return False\n",
    "    return len(temp) == 0\n",
    "\n",
    "a = isValid('{')\n",
    "print(a)"
   ]
  },
  {
   "cell_type": "markdown",
   "metadata": {},
   "source": [
    "# 28、Implement strStr()"
   ]
  },
  {
   "cell_type": "code",
   "execution_count": 52,
   "metadata": {},
   "outputs": [
    {
     "name": "stdout",
     "output_type": "stream",
     "text": [
      "2\n"
     ]
    }
   ],
   "source": []
  },
  {
   "cell_type": "code",
   "execution_count": 66,
   "metadata": {},
   "outputs": [
    {
     "name": "stdout",
     "output_type": "stream",
     "text": [
      "[1, 1, 3]\n",
      "2\n"
     ]
    }
   ],
   "source": [
    "a = [1,1,3,2]\n",
    "b = 3\n",
    "j = 0\n",
    "c = a.pop(3)\n",
    "print(a)\n",
    "print(c)"
   ]
  }
 ],
 "metadata": {
  "kernelspec": {
   "display_name": "Python 3",
   "language": "python",
   "name": "python3"
  },
  "language_info": {
   "codemirror_mode": {
    "name": "ipython",
    "version": 3
   },
   "file_extension": ".py",
   "mimetype": "text/x-python",
   "name": "python",
   "nbconvert_exporter": "python",
   "pygments_lexer": "ipython3",
   "version": "3.6.4"
  }
 },
 "nbformat": 4,
 "nbformat_minor": 2
}
